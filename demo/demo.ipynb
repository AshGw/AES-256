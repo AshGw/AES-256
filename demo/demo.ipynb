{
 "cells": [
  {
   "cell_type": "markdown",
   "id": "886be226",
   "metadata": {},
   "source": [
    "## How it works"
   ]
  },
  {
   "cell_type": "code",
   "execution_count": 16,
   "id": "c49e4ef8",
   "metadata": {},
   "outputs": [
    {
     "name": "stdout",
     "output_type": "stream",
     "text": [
      "The given key is :\n",
      "9405cf2a368007a6fcb9dd8005835ef4f35f48efb55bcab18fc5e8be95ee94c2f6aca5d308ccdc1c1a10c3ccb348b66ccdf78fb7b49a70a92bea8d0735660e44\n",
      "here is the encrypted message in bytes :\n",
      "b']$>\\xc3\\xbdp\\xc7\"p\\xb2\\x10$\\xaal\\xa9B\\xd7\\xf5\"J\\xe5\\r\\xb0\\xf2\"\\x9e\\x86\\xfdm\\xd8\\xffW\\xab\\xcf\\x1cm_\\xacp\\xde\\xe0\\x1b \\xfdxRJ\\xfe,1\\xa8/\\xff=\\xd1\\xd6\\xf8\\xd8\\xfc\\x12\\xec\\x8b\\x1eq\\xa8\\n\\xcaF\\xb9d\\xd5\\xcf\\x95\\x07\\n\\xc7q\\xe6S\\x9b\\x89*\\xd4u\\xcen\\xe3f\\xeaE\\x1c\\xbb\\xdfQ$R\\xa2\\xeewk\\xa3\\xb6\\xa7\\xed\\xe0\\x90\\xfe\\xabS\\xb7w\\x08\\x00\\x00\\x002c8/\\xe2\\xebU&\\xd3\\x81\\xd0\\x98\\x7fJB\\xf5\\x97'\n",
      "\n",
      "here is the encrypted message in str :\n",
      "XSQ-w71wxyJwshAkqmypQtf1IkrlDbDyIp6G_W3Y_1erzxxtX6xw3uAbIP14Ukr-LDGoL_890db42PwS7IsecagKyka5ZNXPlQcKx3HmU5uJKtR1zm7jZupFHLvfUSRSou53a6O2p-3gkP6rU7d3CAAAADJjOC_i61Um04HQmH9KQvWX\n"
     ]
    }
   ],
   "source": [
    "import AshCrypt.Ash as A\n",
    "key = A.Enc.genMainkey()\n",
    "message1 = 'some string'\n",
    "message2 = b'bytes message'\n",
    "print(f'The given key is :\\n{key}')\n",
    "\n",
    "enc_instance = A.Enc(message=message2, mainkey=key)\n",
    "\n",
    "encrypted_bytes = enc_instance.encToBytes()\n",
    "print(f'here is the encrypted message in bytes :\\n{encrypted_bytes}\\n')\n",
    "\n",
    "encrypted_string = enc_instance.encToStr()\n",
    "print(f'here is the encrypted message in str :\\n{encrypted_string}')"
   ]
  },
  {
   "cell_type": "markdown",
   "id": "191b7ac1",
   "metadata": {},
   "source": [
    "\n",
    "\n",
    "### Iterations ## \n",
    "As explained the number of iterations of the KDF functions actually effects the time necessary for the decryption process. \n",
    "the number of iterations represent the bytes from the 112th till the 116th byte of the message \n",
    "\n",
    "starting with dissecting the given message according to its components and comparing the decryption time using different values:\n"
   ]
  },
  {
   "cell_type": "code",
   "execution_count": 80,
   "id": "6b34e0b4",
   "metadata": {},
   "outputs": [
    {
     "name": "stdout",
     "output_type": "stream",
     "text": [
      "Iterations : b'\\x00\\x00\\x002'\n",
      "equal to digit : 50\n",
      "\n",
      "b'bytes message'\n",
      "50 ==> took : 0.334186 secs\n"
     ]
    }
   ],
   "source": [
    "encrypted_message = b']$>\\xc3\\xbdp\\xc7\"p\\xb2\\x10$\\xaal\\xa9B\\xd7\\xf5\"J\\xe5\\r\\xb0\\xf2\"\\x9e\\x86\\xfdm\\xd8\\xffW\\xab\\xcf\\x1cm_\\xacp\\xde\\xe0\\x1b \\xfdxRJ\\xfe,1\\xa8/\\xff=\\xd1\\xd6\\xf8\\xd8\\xfc\\x12\\xec\\x8b\\x1eq\\xa8\\n\\xcaF\\xb9d\\xd5\\xcf\\x95\\x07\\n\\xc7q\\xe6S\\x9b\\x89*\\xd4u\\xcen\\xe3f\\xeaE\\x1c\\xbb\\xdfQ$R\\xa2\\xeewk\\xa3\\xb6\\xa7\\xed\\xe0\\x90\\xfe\\xabS\\xb7w\\x08\\x00\\x00\\x002c8/\\xe2\\xebU&\\xd3\\x81\\xd0\\x98\\x7fJB\\xf5\\x97'\n",
    "print(f'Iterations : {encrypted_message[112:116]}')\n",
    "print(f\"equal to digit : {struct.unpack('!I', encrypted_message[112:116])[0]}\")\n",
    "print()\n",
    "key = '9405cf2a368007a6fcb9dd8005835ef4f35f48efb55bcab18fc5e8be95ee94c2f6aca5d308ccdc1c1a10c3ccb348b66ccdf78fb7b49a70a92bea8d0735660e44'\n",
    "\n",
    "import time \n",
    "t1 = time.perf_counter()\n",
    "decrypted = A.Dec(message=encrypted_message, mainkey=key)\n",
    "t2 = time.perf_counter()\n",
    "\n",
    "print(decrypted.decToBytes())\n",
    "t = t2-t1\n",
    "print(f'50 ==> took : {t:.6f} secs')\n"
   ]
  },
  {
   "cell_type": "markdown",
   "id": "27337e76",
   "metadata": {},
   "source": [
    "let's do a 1000 and see how long it takes"
   ]
  },
  {
   "cell_type": "code",
   "execution_count": 81,
   "id": "68670919",
   "metadata": {},
   "outputs": [
    {
     "name": "stdout",
     "output_type": "stream",
     "text": [
      "1000 in bytes form : b'\\x00\\x00\\x03\\xe8'\n",
      "b'hello this is 1k'\n",
      "1000 ==> took : 6.657864 secs to decrypt\n"
     ]
    }
   ],
   "source": [
    "# setup \n",
    "import importlib\n",
    "import AshCrypt.Ash as A\n",
    "importlib.reload(AshCrypt.Ash)\n",
    "key = '9405cf2a368007a6fcb9dd8005835ef4f35f48efb55bcab18fc5e8be95ee94c2f6aca5d308ccdc1c1a10c3ccb348b66ccdf78fb7b49a70a92bea8d0735660e44'\n",
    "message = 'hello this is 1k'\n",
    "enc_instance = A.Enc(message=message, mainkey=key)\n",
    "encrypted_message = enc_instance.encToBytes()\n",
    "\n",
    "# switch to 100k\n",
    "\n",
    "print(f\"1000 in bytes form : {struct.pack('!I', 1000)}\")\n",
    "\n",
    "# replacing it in the message \n",
    "\n",
    "encrypted_message = encrypted_message[:112] + struct.pack('!I', 1000) + encrypted_message[116:]\n",
    "\n",
    "# decryption \n",
    "t1 = time.perf_counter()\n",
    "decrypted = A.Dec(message=encrypted_message, mainkey=key)\n",
    "t2 = time.perf_counter()\n",
    "print(decrypted.decToBytes())\n",
    "t = t2-t1\n",
    "print(f'1000 ==> took : {t:.6f} secs to decrypt')"
   ]
  },
  {
   "cell_type": "markdown",
   "id": "00c092ce",
   "metadata": {},
   "source": [
    "Now let's do a 100k"
   ]
  },
  {
   "cell_type": "code",
   "execution_count": 92,
   "id": "c679a97d",
   "metadata": {},
   "outputs": [
    {
     "name": "stdout",
     "output_type": "stream",
     "text": [
      "100 000 in bytes form : b'\\x00\\x01\\x86\\xa0'\n",
      "b'hello this is 100k'\n",
      "100k ==> took : 685.464923secs\n"
     ]
    }
   ],
   "source": [
    "# setup \n",
    "import importlib\n",
    "import AshCrypt.Ash as A\n",
    "importlib.reload(AshCrypt.Ash)\n",
    "key = '9405cf2a368007a6fcb9dd8005835ef4f35f48efb55bcab18fc5e8be95ee94c2f6aca5d308ccdc1c1a10c3ccb348b66ccdf78fb7b49a70a92bea8d0735660e44'\n",
    "message = 'hello this is 100k'\n",
    "enc_instance = A.Enc(message=message, mainkey=key)\n",
    "encrypted_message = enc_instance.encToBytes()\n",
    "\n",
    "# switch to 100k\n",
    "\n",
    "print(f\"100 000 in bytes form : {struct.pack('!I', 100000)}\")\n",
    "\n",
    "# replacing it in the message \n",
    "\n",
    "# encrypted_message = encrypted_message[:112] + struct.pack('!I', 100000) + encrypted_message[116:]\n",
    "\n",
    "# decryption \n",
    "t1 = time.perf_counter()\n",
    "decrypted = A.Dec(message=encrypted_message, mainkey=key)\n",
    "t2 = time.perf_counter()\n",
    "print(decrypted.decToBytes())\n",
    "t50 = t2-t1\n",
    "print(f'100k ==> took : {t50:.6f}secs')"
   ]
  }
 ],
 "metadata": {
  "kernelspec": {
   "display_name": "Python 3 (ipykernel)",
   "language": "python",
   "name": "python3"
  },
  "language_info": {
   "codemirror_mode": {
    "name": "ipython",
    "version": 3
   },
   "file_extension": ".py",
   "mimetype": "text/x-python",
   "name": "python",
   "nbconvert_exporter": "python",
   "pygments_lexer": "ipython3",
   "version": "3.9.13"
  }
 },
 "nbformat": 4,
 "nbformat_minor": 5
}
